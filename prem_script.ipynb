{
 "cells": [
  {
   "cell_type": "code",
   "execution_count": null,
   "metadata": {},
   "outputs": [],
   "source": [
    "# !pip install boruta\n",
    "# !pip install pandas\n",
    "# !pip install numpy\n",
    "# !pip install sklearn"
   ]
  },
  {
   "cell_type": "code",
   "execution_count": 9,
   "metadata": {},
   "outputs": [],
   "source": [
    "import pandas as pd\n",
    "import numpy as np\n",
    "from sklearn.ensemble import RandomForestClassifier\n",
    "from boruta import BorutaPy\n",
    "from sklearn.preprocessing import OneHotEncoder\n",
    "from sklearn.model_selection import train_test_split\n",
    "from category_encoders import TargetEncoder"
   ]
  },
  {
   "cell_type": "code",
   "execution_count": 3,
   "metadata": {},
   "outputs": [],
   "source": [
    "#Loading data\n",
    "df = pd.read_csv('data.csv', encoding='utf-8', engine='python', on_bad_lines='warn')"
   ]
  },
  {
   "cell_type": "code",
   "execution_count": 4,
   "metadata": {},
   "outputs": [],
   "source": [
    "#Checking if 'pretermalg' column exists\n",
    "if 'pretermalg' in df.columns:\n",
    "    y = df['pretermalg']\n",
    "else:\n",
    "    print(\"Column 'pretermalg' not found. Check your dataset columns.\")\n",
    "    print(\"Available columns:\", df.columns)"
   ]
  },
  {
   "cell_type": "code",
   "execution_count": 14,
   "metadata": {},
   "outputs": [
    {
     "data": {
      "text/plain": [
       "0         2.0\n",
       "1         2.0\n",
       "2         2.0\n",
       "3         2.0\n",
       "4         2.0\n",
       "         ... \n",
       "148984    2.0\n",
       "148985    2.0\n",
       "148986    2.0\n",
       "148987    2.0\n",
       "148988    2.0\n",
       "Name: pretermalg, Length: 148989, dtype: float64"
      ]
     },
     "execution_count": 14,
     "metadata": {},
     "output_type": "execute_result"
    }
   ],
   "source": [
    "y"
   ]
  },
  {
   "cell_type": "code",
   "execution_count": 10,
   "metadata": {},
   "outputs": [],
   "source": [
    "# Separate categorical and numerical columns\n",
    "categorical_cols = df.select_dtypes(include=['object', 'category']).columns\n",
    "numerical_cols = df.select_dtypes(include=[np.number]).columns\n",
    "\n",
    "# Split data into training and testing sets to avoid data leakage in target encoding\n",
    "X_train, X_test, y_train, y_test = train_test_split(df, y, test_size=0.2, random_state=42)\n",
    "\n",
    "# Apply Target Encoding to categorical data\n",
    "te = TargetEncoder()\n",
    "X_train[categorical_cols] = te.fit_transform(X_train[categorical_cols], y_train)\n",
    "X_test[categorical_cols] = te.transform(X_test[categorical_cols])\n",
    "\n",
    "# Combine encoded categorical data with numerical data\n",
    "X_train_combined = pd.concat([X_train[categorical_cols], X_train[numerical_cols]], axis=1)\n",
    "X_test_combined = pd.concat([X_test[categorical_cols], X_test[numerical_cols]], axis=1)\n",
    "\n",
    "# Now X_train_combined and X_test_combined can be used for further analysis/modeling"
   ]
  },
  {
   "cell_type": "code",
   "execution_count": 13,
   "metadata": {},
   "outputs": [
    {
     "data": {
      "text/plain": [
       "Index(['fid', 'infantid', 'usga', 'ustiming', 'schyears', 'priorcsec',\n",
       "       'priorcsecnum', 'ancvisits', 'cstime', 'obslabor', 'antehem',\n",
       "       'transverse', 'oblique', 'breech', 'induction', 'infdeliv', 'inffu',\n",
       "       'unplanhosp', 'seizures', 'mantibiotics', 'corticosteroid', 'oxytocics',\n",
       "       'bldtrans', 'dcsuction', 'magsulfate', 'hysterectomy', 'episiotomy',\n",
       "       'jaundice', 'cpap', 'medeyecare', 'vitk', 'water30min', 'mheight_r2',\n",
       "       'mweight_r2', 'bmi_r2', 'delivmode_r2', 'hemoglobin1_r2'],\n",
       "      dtype='object')"
      ]
     },
     "execution_count": 13,
     "metadata": {},
     "output_type": "execute_result"
    }
   ],
   "source": [
    "categorical_cols"
   ]
  },
  {
   "cell_type": "code",
   "execution_count": 12,
   "metadata": {},
   "outputs": [
    {
     "data": {
      "text/plain": [
       "Index(['bord', 'site', 'cid', 'mnhyear', 'mn00ver', 'mn01ver', 'mn02ver',\n",
       "       'mn03ver', 'mn05ver', 'mn06ver',\n",
       "       ...\n",
       "       'fuout', 'ltfdeliv', 'ltffu', 'ltf', 'clusterclosed', 'clusterresized',\n",
       "       'closedenrl', 'medu_r2', 'meducat_r2', 'prevlb_r2'],\n",
       "      dtype='object', length=107)"
      ]
     },
     "execution_count": 12,
     "metadata": {},
     "output_type": "execute_result"
    }
   ],
   "source": [
    "numerical_cols"
   ]
  }
 ],
 "metadata": {
  "kernelspec": {
   "display_name": "Python 3",
   "language": "python",
   "name": "python3"
  },
  "language_info": {
   "codemirror_mode": {
    "name": "ipython",
    "version": 3
   },
   "file_extension": ".py",
   "mimetype": "text/x-python",
   "name": "python",
   "nbconvert_exporter": "python",
   "pygments_lexer": "ipython3",
   "version": "3.8.10"
  },
  "orig_nbformat": 4
 },
 "nbformat": 4,
 "nbformat_minor": 2
}
